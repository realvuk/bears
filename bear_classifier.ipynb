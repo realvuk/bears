{
 "cells": [
  {
   "cell_type": "code",
   "execution_count": 1,
   "id": "13e2696b-66f5-45d3-b3c2-8713a5abc4b3",
   "metadata": {
    "execution": {
     "iopub.execute_input": "2025-05-21T11:04:24.053316Z",
     "iopub.status.busy": "2025-05-21T11:04:24.053054Z",
     "iopub.status.idle": "2025-05-21T11:04:26.294592Z",
     "shell.execute_reply": "2025-05-21T11:04:26.294124Z",
     "shell.execute_reply.started": "2025-05-21T11:04:24.053294Z"
    }
   },
   "outputs": [],
   "source": [
    "from fastai.vision.all import *\n",
    "from fastai.vision.widgets import *"
   ]
  },
  {
   "cell_type": "code",
   "execution_count": 2,
   "id": "12891a6b-08aa-463a-95d8-d3b154336541",
   "metadata": {
    "execution": {
     "iopub.execute_input": "2025-05-21T11:04:54.374189Z",
     "iopub.status.busy": "2025-05-21T11:04:54.373483Z",
     "iopub.status.idle": "2025-05-21T11:04:54.410439Z",
     "shell.execute_reply": "2025-05-21T11:04:54.410073Z",
     "shell.execute_reply.started": "2025-05-21T11:04:54.374137Z"
    }
   },
   "outputs": [
    {
     "name": "stderr",
     "output_type": "stream",
     "text": [
      "/home/vuk/miniconda3/envs/learning/lib/python3.10/site-packages/fastai/learner.py:455: UserWarning: load_learner` uses Python's insecure pickle module, which can execute malicious arbitrary code when loading. Only load files you trust.\n",
      "If you only need to load model weights and optimizer state, use the safe `Learner.load` instead.\n",
      "  warn(\"load_learner` uses Python's insecure pickle module, which can execute malicious arbitrary code when loading. Only load files you trust.\\nIf you only need to load model weights and optimizer state, use the safe `Learner.load` instead.\")\n"
     ]
    }
   ],
   "source": [
    "path = Path()\n",
    "learn_inf = load_learner(path/'export.pkl', cpu=True)\n",
    "btn_upload = widgets.FileUpload()\n",
    "out_pl = widgets.Output()\n",
    "lbl_pred = widgets.Label()"
   ]
  },
  {
   "cell_type": "code",
   "execution_count": 3,
   "id": "6b32797c-452f-49e0-a7e2-34fd6844b1bc",
   "metadata": {
    "execution": {
     "iopub.execute_input": "2025-05-21T11:05:21.888982Z",
     "iopub.status.busy": "2025-05-21T11:05:21.888333Z",
     "iopub.status.idle": "2025-05-21T11:05:21.893744Z",
     "shell.execute_reply": "2025-05-21T11:05:21.892847Z",
     "shell.execute_reply.started": "2025-05-21T11:05:21.888920Z"
    }
   },
   "outputs": [],
   "source": [
    "def on_click_classify(change):\n",
    "    if not btn_upload.value:\n",
    "        lbl_pred.value = \"Please upload an image first.\"\n",
    "        return\n",
    "\n",
    "    uploaded_file = btn_upload.value[0]\n",
    "    img_bytes = bytes(uploaded_file['content'])\n",
    "\n",
    "    img = PILImage.create(img_bytes)\n",
    "    out_pl.clear_output()\n",
    "    with out_pl: display(img.to_thumb(128,128))\n",
    "\n",
    "    pred, pred_idx, probs = learn_inf.predict(img)\n",
    "    lbl_pred.value = f'Prediction: {pred}; Probability: {probs[pred_idx]:.04f}'"
   ]
  },
  {
   "cell_type": "code",
   "execution_count": 5,
   "id": "2e0c58c5-eb31-4b12-8cf9-b4d6e3089c6c",
   "metadata": {
    "execution": {
     "iopub.execute_input": "2025-05-21T11:05:52.491177Z",
     "iopub.status.busy": "2025-05-21T11:05:52.490583Z",
     "iopub.status.idle": "2025-05-21T11:05:52.495361Z",
     "shell.execute_reply": "2025-05-21T11:05:52.494680Z",
     "shell.execute_reply.started": "2025-05-21T11:05:52.491129Z"
    }
   },
   "outputs": [],
   "source": [
    "btn_upload.observe(on_click_classify, names=['data'])"
   ]
  },
  {
   "cell_type": "code",
   "execution_count": 6,
   "id": "adf5b687-5040-43cc-b84d-5caee24ce1ec",
   "metadata": {
    "execution": {
     "iopub.execute_input": "2025-05-21T11:06:04.700861Z",
     "iopub.status.busy": "2025-05-21T11:06:04.700414Z",
     "iopub.status.idle": "2025-05-21T11:06:04.710351Z",
     "shell.execute_reply": "2025-05-21T11:06:04.709711Z",
     "shell.execute_reply.started": "2025-05-21T11:06:04.700825Z"
    }
   },
   "outputs": [
    {
     "data": {
      "application/vnd.jupyter.widget-view+json": {
       "model_id": "4d374c280eb64195b56bacc745f63378",
       "version_major": 2,
       "version_minor": 0
      },
      "text/plain": [
       "VBox(children=(Label(value='Select your bear!'), FileUpload(value=(), description='Upload'), Output(), Label(v…"
      ]
     },
     "metadata": {},
     "output_type": "display_data"
    }
   ],
   "source": [
    "display(VBox([widgets.Label('Select your bear!'), btn_upload, out_pl, lbl_pred]))"
   ]
  }
 ],
 "metadata": {
  "kernelspec": {
   "display_name": "Python 3 (ipykernel)",
   "language": "python",
   "name": "python3"
  },
  "language_info": {
   "codemirror_mode": {
    "name": "ipython",
    "version": 3
   },
   "file_extension": ".py",
   "mimetype": "text/x-python",
   "name": "python",
   "nbconvert_exporter": "python",
   "pygments_lexer": "ipython3",
   "version": "3.10.16"
  }
 },
 "nbformat": 4,
 "nbformat_minor": 5
}
